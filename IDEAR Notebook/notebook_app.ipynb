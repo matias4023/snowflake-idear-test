{
 "metadata": {
  "kernelspec": {
   "display_name": "Streamlit Notebook",
   "name": "streamlit"
  }
 },
 "nbformat_minor": 5,
 "nbformat": 4,
 "cells": [
  {
   "cell_type": "code",
   "id": "3775908f-ca36-4846-8f38-5adca39217f2",
   "metadata": {
    "language": "python",
    "name": "cell1",
    "collapsed": false
   },
   "source": "# Import python packages\nfrom statsmodels.graphics.gofplots import qqplot\nfrom sklearn.decomposition import PCA\nfrom sklearn.preprocessing import StandardScaler\nfrom statsmodels.formula.api import ols\nimport numpy as np\nimport pandas as pd\nimport plotly.express as px\nimport plotly.figure_factory as ff\n#import plotly.graph_objs as go\nimport scipy.stats as stats\nimport statsmodels.api as sm\nimport streamlit as st\n\n# We can also use Snowpark for our analyses!\nfrom snowflake.snowpark.context import get_active_session\nsession = get_active_session()",
   "execution_count": null,
   "outputs": []
  },
  {
   "cell_type": "code",
   "id": "e8bb050f-48df-44d1-b82b-8b3570236a5f",
   "metadata": {
    "language": "python",
    "name": "cell29",
    "collapsed": false
   },
   "outputs": [],
   "source": "import os\n\ntry:\n    import plotly.graph_objs as go\nexcept:\n    import tempfile\n    import atexit\n    import shutil\n\n    mpldir = tempfile.mkdtemp()\n    atexit.register(shutil.rmtree, mpldir)  # rm directory on succ exit\n\n    os.environ['MPLCONFIGDIR'] = mpldir\n\n    import plotly.graph_objs as go",
   "execution_count": null
  },
  {
   "cell_type": "markdown",
   "id": "421c6915-caa8-4690-9fab-6d5af5781d12",
   "metadata": {
    "name": "cell2",
    "collapsed": false
   },
   "source": "Select the data to analyze"
  },
  {
   "cell_type": "code",
   "id": "8d50cbf4-0c8d-4950-86cb-114990437ac9",
   "metadata": {
    "language": "sql",
    "name": "cell3",
    "collapsed": false
   },
   "source": "-- Welcome to Snowflake Notebooks!\n-- Try out a SQL cell to generate some data.\nSELECT * from WINE_PARAMS;\n",
   "execution_count": null,
   "outputs": []
  },
  {
   "cell_type": "markdown",
   "id": "075a7e0c-00b0-4855-b434-ca235cf59730",
   "metadata": {
    "name": "cell4",
    "collapsed": false
   },
   "source": "Separate numerical columns from the rest"
  },
  {
   "cell_type": "code",
   "id": "36ca331d-4dd2-44a4-ba6c-2ff7d5ca3987",
   "metadata": {
    "language": "python",
    "name": "cell5",
    "collapsed": false
   },
   "outputs": [],
   "source": "df = cell3.to_pandas()\n\nnum_cols = list(df.select_dtypes(include=[np.number]).columns)\ncat_cols = list(set(list(df.select_dtypes(exclude=[np.number]).columns)))",
   "execution_count": null
  },
  {
   "cell_type": "markdown",
   "id": "48dba2e1-d192-43aa-a134-c05f408a22ee",
   "metadata": {
    "name": "cell6",
    "collapsed": false
   },
   "source": "General Description"
  },
  {
   "cell_type": "code",
   "id": "c695373e-ac74-4b62-a1f1-08206cbd5c81",
   "metadata": {
    "language": "python",
    "name": "cell7",
    "collapsed": false
   },
   "source": "st.subheader(\"Head of the Dataset\")\nst.dataframe(df.head(),use_container_width=True)\n\nst.subheader(\"Data Types\")\nst.dataframe(df.dtypes, use_container_width=True)\n\nst.subheader(\"Numeric Data Description\")\nst.dataframe(df[num_cols].describe().T, use_container_width=True)\n\nif len(cat_cols) > 0:\n    st.subheader(\"Categorical Data Description\")\n    st.dataframe(df[cat_cols].describe().T, use_container_width=True)",
   "execution_count": null,
   "outputs": []
  },
  {
   "cell_type": "markdown",
   "id": "81164090-4225-413d-afba-77526903a949",
   "metadata": {
    "name": "cell8",
    "collapsed": false
   },
   "source": "Exploration of Numerical Variables"
  },
  {
   "cell_type": "code",
   "id": "c42ff626-da23-4043-a741-6c0f7bd665d8",
   "metadata": {
    "language": "python",
    "name": "cell9",
    "collapsed": false
   },
   "outputs": [],
   "source": "num_explore_selection = st.selectbox(\n    \"Select column to analyze\",\n    num_cols)\n\nfig1 = ff.create_distplot([df[num_explore_selection]], \n                         [num_explore_selection], \n                         bin_size=(df[num_explore_selection].max()-df[num_explore_selection].min())/15)\nst.subheader(\"Distribution Plot\")\nst.plotly_chart(fig1, use_container_width=True)\n\nfig2 = px.box(df, x=num_explore_selection)\nst.subheader(\"Box Plot\")\nst.plotly_chart(fig2, use_container_width=True)\n\nqqplot_data = qqplot(df[num_explore_selection], line=\"s\").gca().lines\nfig3 = go.Figure()\nfig3.add_trace({\n    \"type\": \"scatter\",\n    \"x\": qqplot_data[0].get_xdata(),\n    \"y\": qqplot_data[0].get_ydata(),\n    \"mode\": \"markers\",\n    \"marker\": {\n        \"color\": \"#19d3f3\"\n    }\n})\nfig3.add_trace({\n    \"type\": \"scatter\",\n    \"x\": qqplot_data[1].get_xdata(),\n    \"y\": qqplot_data[1].get_ydata(),\n    \"mode\": \"lines\",\n    \"line\": {\n        \"color\": \"#636efa\"\n    }\n})\nfig3[\"layout\"].update({\n    \"title\": \"Quantile-Quantile Plot\",\n    \"xaxis\": {\n        \"title\": \"Theoritical Quantities\",\n        \"zeroline\": False\n    },\n    \"yaxis\": {\n        \"title\": \"Sample Quantities\"\n    },\n    \"showlegend\": False,\n    \"width\": 800,\n    \"height\": 700,\n})\nst.plotly_chart(fig3, use_container_width=True)",
   "execution_count": null
  },
  {
   "cell_type": "markdown",
   "id": "e63daed6-7ca9-4194-a7a4-9381a30265a7",
   "metadata": {
    "name": "cell10",
    "collapsed": false
   },
   "source": "Exploration of Categorical Variables"
  },
  {
   "cell_type": "code",
   "id": "06b41b39-3880-4c4d-8cdb-98c9496147cd",
   "metadata": {
    "language": "python",
    "name": "cell11",
    "collapsed": false
   },
   "outputs": [],
   "source": "cat_explore_selection = st.selectbox(\n    \"Select column to analyze\",\n    cat_cols)\nif len(cat_cols) > 0:\n    st.subheader(\"Histogram\")\n    fig4 = px.histogram(df, x=cat_explore_selection)\n    st.plotly_chart(fig4, use_container_width=True)\n    \n    st.subheader(\"Pie Chart\")\n    fig5 = px.pie(df, names=cat_explore_selection)\n    st.plotly_chart(fig5, use_container_width=True)",
   "execution_count": null
  },
  {
   "cell_type": "markdown",
   "id": "5f78f5bc-7bd4-409f-81da-71f955a63102",
   "metadata": {
    "name": "cell12",
    "collapsed": false
   },
   "source": "Explore Interactions Between Numeric Variables"
  },
  {
   "cell_type": "code",
   "id": "600f27f1-b495-48aa-9185-0257c094d2c2",
   "metadata": {
    "language": "python",
    "name": "cell13",
    "collapsed": false
   },
   "outputs": [],
   "source": "num_num_interaction1 = st.selectbox(\n    \"Select first column to analyze\",\n    num_cols)\nnum_num_interaction2 = st.selectbox(\n    \"Select second column to analyze\",\n    num_cols,index=1)\n\nfig6 = px.scatter(df, x=num_num_interaction1, y=num_num_interaction2, trendline=\"ols\")\nst.plotly_chart(fig6, use_container_width=True)",
   "execution_count": null
  },
  {
   "cell_type": "markdown",
   "id": "27dbae97-645f-41ef-b8da-6118f1dff377",
   "metadata": {
    "name": "cell14",
    "collapsed": false
   },
   "source": "Explore Interaction Between Categorical Variables"
  },
  {
   "cell_type": "code",
   "id": "5345381b-d2d0-4225-b23f-58b938c7857e",
   "metadata": {
    "language": "python",
    "name": "cell15",
    "collapsed": false
   },
   "outputs": [],
   "source": "cat_cat_interaction1 = st.selectbox(\n    \"Select first column to analyze\",\n    cat_cols)\ncat_cat_interaction2 = st.selectbox(\n    \"Select second column to analyze\",\n    cat_cols,index=1)\nif len(cat_cols) > 0:\n    fig7 = px.histogram(df, x=cat_cat_interaction1, color=cat_cat_interaction2)\n    st.plotly_chart(fig7, use_container_width=True)",
   "execution_count": null
  },
  {
   "cell_type": "markdown",
   "id": "b345ed3e-54e6-41cc-81e3-e6ad68ab3810",
   "metadata": {
    "name": "cell16",
    "collapsed": false
   },
   "source": "Explore Interactions Between a Numerical and a Categorical Variable"
  },
  {
   "cell_type": "code",
   "id": "68c727ff-c491-4b9e-b006-89546db77168",
   "metadata": {
    "language": "python",
    "name": "cell17",
    "collapsed": false
   },
   "outputs": [],
   "source": "num_cat_interaction1 = st.selectbox(\n    \"Select numeric column to analyze\",\n    num_cols)\nnum_cat_interaction2 = st.selectbox(\n    \"Select categorical column to analyze\",\n    cat_cols)\n\nfig8 = px.box(df, x=num_cat_interaction2, y=num_cat_interaction1)\nst.plotly_chart(fig8, use_container_width=True)",
   "execution_count": null
  },
  {
   "cell_type": "markdown",
   "id": "497e8435-6b87-4c55-a9d7-d2309515a482",
   "metadata": {
    "name": "cell18",
    "collapsed": false
   },
   "source": "Correlation Heatmap"
  },
  {
   "cell_type": "code",
   "id": "f17ec806-1710-4ebf-99ac-ae23555910eb",
   "metadata": {
    "language": "python",
    "name": "cell19",
    "collapsed": false
   },
   "outputs": [],
   "source": "corr_method = st.selectbox(\n    \"Select method for calculating correlation\",\n    [\"pearson\",\"kendall\",\"spearman\"])\n\ndf_num = df[num_cols]\ncorr = df_num.corr(corr_method)\nfig9 = px.imshow(corr)\nst.plotly_chart(fig9, use_container_width=True)",
   "execution_count": null
  },
  {
   "cell_type": "markdown",
   "id": "bb00076f-0091-424f-b84f-2adaaf3f274b",
   "metadata": {
    "name": "cell23",
    "collapsed": false
   },
   "source": "Explore Interaction Between 2 Numeric and 1 Categorical Variable"
  },
  {
   "cell_type": "code",
   "id": "2e58934b-b3c9-4a85-8581-96d2963f4b0a",
   "metadata": {
    "language": "python",
    "name": "cell24",
    "collapsed": false
   },
   "outputs": [],
   "source": "tri_interaction1 = st.selectbox(\n    \"Select first numeric column to analyze\",\n    num_cols)\ntri_interaction2 = st.selectbox(\n    \"Select second numeric column to analyze\",\n    num_cols,index=1)\ntri_interaction_cat = st.selectbox(\n    \"Select categorical column as legend\",\n    cat_cols)\n\nfig12 = px.scatter(df, x=tri_interaction1, y=tri_interaction2, color=tri_interaction_cat)\nst.plotly_chart(fig12, use_container_width=True)",
   "execution_count": null
  },
  {
   "cell_type": "markdown",
   "id": "a6d1b9c3-d6e4-4441-b436-571a73e659bb",
   "metadata": {
    "name": "cell27",
    "collapsed": false
   },
   "source": "Rank Associations Between Variables"
  },
  {
   "cell_type": "code",
   "id": "a534b48f-e870-4a04-a498-08b4b56a10bc",
   "metadata": {
    "language": "python",
    "name": "cell28",
    "collapsed": false
   },
   "outputs": [],
   "source": "reference_var = st.selectbox(\n    \"Select reference variable to compare to\",\n    df.columns)\n\nif reference_var in num_cols:\n    corrdf2 = corr[corr.index==reference_var].reset_index()[[each for each in corr.columns \\\n                                                      if reference_var not in each]].unstack().sort_values(kind=\"quicksort\", \n                                                                                                  ascending=False).head()\n    corrdf2 = corrdf2.reset_index()\n    corrdf2.columns = [\"level0\",\"level1\",\"rsq\"]\n\n    corrdf3 = corr[corr.index==reference_var].reset_index()[[each for each in corr.columns \\\n                                                      if reference_var not in each]].unstack().sort_values(kind=\"quicksort\", \n                                                                                                  ascending=False).tail()\n    corrdf3 = corrdf3.reset_index()\n    corrdf3.columns = [\"level0\",\"level1\",\"rsq\"]\n\n    fig13 = px.histogram(corrdf2,x=\"level0\",y=\"rsq\")\n    st.plotly_chart(fig13, use_container_width=True)\n\n    fig15 = px.histogram(corrdf3,x=\"level0\",y=\"rsq\")\n    st.plotly_chart(fig15, use_container_width=True)\n\n    etasquared_dict = {}\n    for each in cat_cols:\n        mod = ols(\"{} ~ C({})\".format(reference_var, each),\n                  data=df[[reference_var,each]],missing=\"drop\").fit()\n        aov_table = sm.stats.anova_lm(mod, typ=1)\n        esq_sm = aov_table[\"sum_sq\"].iloc[0]/(aov_table[\"sum_sq\"].iloc[0]+aov_table[\"sum_sq\"].iloc[1])\n        etasquared_dict[each] = esq_sm\n        \n    topk_esq = pd.DataFrame.from_dict(etasquared_dict, orient=\"index\").unstack().sort_values(\\\n        kind = \"quicksort\", ascending=False).head().reset_index()\n    topk_esq.columns = [\"level0\", \"level1\", \"EtaSquared\"]\n    fig14 = px.histogram(topk_esq,x=\"level1\",y=\"EtaSquared\")\n    st.plotly_chart(fig14, use_container_width=True)\nelse:\n    etasquared_dict = {}\n    for each in num_cols:\n        mod = ols(\"{} ~ C({})\".format(each, reference_var),\n                  data=df[[reference_var,each]],missing=\"drop\").fit()\n        aov_table = sm.stats.anova_lm(mod, typ=1)\n        esq_sm = aov_table[\"sum_sq\"].iloc[0]/(aov_table[\"sum_sq\"].iloc[0]+aov_table[\"sum_sq\"].iloc[1])\n        etasquared_dict[each] = esq_sm\n        \n    topk_esq = pd.DataFrame.from_dict(etasquared_dict, orient=\"index\").unstack().sort_values(\\\n        kind = \"quicksort\", ascending=False).head().reset_index()\n    topk_esq.columns = [\"level0\", \"level1\", \"EtaSquared\"]\n    fig13 = px.histogram(topk_esq,x=\"level1\",y=\"EtaSquared\")\n    st.plotly_chart(fig13, use_container_width=True)\n\n    cramer_dict = {}\n    for each in cat_cols:\n        if each !=reference_var:\n            tbl = pd.crosstab(df[reference_var], df[each])\n            chisq = stats.chi2_contingency(tbl, correction=False)[0]\n            try:\n                cramer = np.sqrt(chisq/sum(tbl))\n            except:\n                # cramer = np.sqrt(chisq/tbl.as_matrix().sum())\n                cramer = np.sqrt(chisq / tbl.values.sum())\n\n                pass\n            cramer_dict[each] = cramer\n    topk_cramer = pd.DataFrame.from_dict(cramer_dict, orient=\"index\").unstack().sort_values(\\\n        kind = \"quicksort\", ascending=False).head().reset_index()\n    topk_cramer.columns = [\"level0\", \"level1\",\"CramersV\"]\n    fig14 = px.histogram(topk_cramer,x=\"level1\",y=\"CramersV\")\n    st.plotly_chart(fig14, use_container_width=True)",
   "execution_count": null
  },
  {
   "cell_type": "markdown",
   "id": "a85ed73f-93dd-4c6d-a028-c169b3a7fe4e",
   "metadata": {
    "name": "cell20",
    "collapsed": false
   },
   "source": "Visualize Numerical Data by Ptojecting to Principal Component Spaces"
  },
  {
   "cell_type": "markdown",
   "id": "6ebc39de-f743-433b-943a-e7487368ea54",
   "metadata": {
    "name": "cell21",
    "collapsed": false
   },
   "source": "Project data to 2D PC space"
  },
  {
   "cell_type": "code",
   "id": "b84fad96-05ac-40ba-8b86-109d429c0f8d",
   "metadata": {
    "language": "python",
    "name": "cell22",
    "collapsed": false
   },
   "outputs": [],
   "source": "comp_num = st.slider(\"Insert the desired explained variance from the components\",\n                          value=0.95, min_value=0.1, max_value=0.99)\n\nnum_df = df[num_cols]\n\nX = StandardScaler().fit_transform(num_df.values)\npca = PCA(n_components=comp_num)\npca.fit(X)\n\nst.write(\"The number of components is\", pca.n_components_)\n\nvariance = pd.DataFrame([range(1,pca.n_components_+1),pca.explained_variance_ratio_]).T\nfig10 = px.histogram(variance, x=0, y=1, nbins=int(pca.n_components_),\n                    labels={\n                     \"0\": \"Principal Component\",\n                     \"1\": \"Explained Variance Ratio\"\n                 })\nfig10.update_layout(bargap=0.2)\nst.plotly_chart(fig10, use_container_width=True)\n\nlegend_pca1 = st.selectbox(\n    \"Select legend variable\",\n    cat_cols)\n\nif pca.n_components_>1:\n    pca_xaxis = st.selectbox(\n        \"Select PC at X axis\",\n        range(1,pca.n_components_+1))\n    pca_yaxis = st.selectbox(\n        \"Select PC at Y axis\",\n        range(1,pca.n_components_+1),index=1)\n    \n    x_pca_index = pca_xaxis - 1\n    y_pca_index = pca_yaxis - 1\n    \n    Y_pca = pd.DataFrame(pca.fit_transform(X))\n    Y_pca_labels = []\n    for i in range(1,pca.n_components_+1):\n        Y_pca_labels.append('PC'+str(i))\n    Y_pca.columns = Y_pca_labels\n    \n    if len(cat_cols) > 0:\n        scatter_2d_data = pd.concat([Y_pca, df[legend_pca1]], axis=1)\n        \n        fig11 = px.scatter(scatter_2d_data,x=scatter_2d_data.columns[x_pca_index],\n                           y=scatter_2d_data.columns[y_pca_index],\n                           color=legend_pca1)\n    else:\n        fig11 = px.scatter(Y_pca,x=Y_pca.columns[x_pca_index],\n                           y=Y_pca.columns[y_pca_index])\n    st.plotly_chart(fig11, use_container_width=True)\nelse: \n    st.subheader(\"Not enough components to display 2D graph\")",
   "execution_count": null
  },
  {
   "cell_type": "markdown",
   "id": "e43f7237-0bff-468d-b631-4dbb17cfa14e",
   "metadata": {
    "name": "cell25",
    "collapsed": false
   },
   "source": "Project Data to 3D PC Space"
  },
  {
   "cell_type": "code",
   "id": "e945611f-4b3f-4b0c-bf31-34ed6b01f13d",
   "metadata": {
    "language": "python",
    "name": "cell26",
    "collapsed": false
   },
   "outputs": [],
   "source": "legend_pca3d = st.selectbox(\n    \"Select legend variable for 3d visualization\",\n    cat_cols)\nif pca.n_components_>2:\n    pca3d_xaxis = st.selectbox(\n        \"Select PC at X axis for 3d\",\n        range(1,pca.n_components_+1))\n    pca3d_yaxis = st.selectbox(\n        \"Select PC at Y axis for 3d\",\n        range(1,pca.n_components_+1),index=1)\n    pca3d_zaxis = st.selectbox(\n        \"Select PC at Z axis for 3d\",\n        range(1,pca.n_components_+1),index=2)\n    \n    x_pca3d_index = pca3d_xaxis - 1\n    y_pca3d_index = pca3d_yaxis - 1\n    z_pca3d_index = pca3d_zaxis - 1\n    \n    if len(cat_cols) > 0:\n        scatter_3d_data = pd.concat([Y_pca, df[legend_pca3d]], axis=1)\n        \n        fig12 = px.scatter_3d(scatter_3d_data,x=scatter_3d_data.columns[x_pca3d_index],\n                            y=scatter_3d_data.columns[y_pca3d_index],\n                            z=scatter_3d_data.columns[z_pca3d_index],\n                            color=legend_pca3d)\n    else:\n        fig12 = px.scatter_3d(Y_pca,x=Y_pca.columns[x_pca3d_index],\n                            y=Y_pca.columns[y_pca3d_index],\n                            z=Y_pca.columns[z_pca3d_index])\n    st.plotly_chart(fig12, use_container_width=True)\nelse: \n    st.subheader(\"Not enough components to display 3D graph\")",
   "execution_count": null
  }
 ]
}